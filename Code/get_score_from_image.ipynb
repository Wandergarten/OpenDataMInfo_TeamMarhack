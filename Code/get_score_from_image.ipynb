{
  "nbformat": 4,
  "nbformat_minor": 0,
  "metadata": {
    "colab": {
      "name": "tesseract.ipynb",
      "provenance": [],
      "collapsed_sections": []
    },
    "kernelspec": {
      "name": "python385jvsc74a57bd0d7a185c7189272243b4823288e938adbf8a9c14fac77efacc5e58c48a0cfe526",
      "display_name": "Python 3.8.5 64-bit"
    },
    "language_info": {
      "name": "python",
      "version": "3.8.5-final"
    }
  },
  "cells": [
    {
      "cell_type": "code",
      "metadata": {
        "id": "1YXRMjA9JP7l"
      },
      "source": [
        "# uncomment if needed\n",
        "#pip install pytesseract"
      ],
      "execution_count": 2,
      "outputs": []
    },
    {
      "cell_type": "code",
      "metadata": {
        "id": "2iOcHk-xJ7aA"
      },
      "source": [
        "# if tesseract needed uncomment lower line: https://morioh.com/p/12f182398dc4\n",
        "#!sudo apt install tesseract-ocr"
      ],
      "execution_count": 3,
      "outputs": []
    },
    {
      "cell_type": "code",
      "metadata": {
        "id": "ACDW_5e1JI-X"
      },
      "source": [
        "from PIL import Image, ImageOps\n",
        "import numpy as np\n",
        "import pytesseract"
      ],
      "execution_count": 5,
      "outputs": []
    },
    {
      "cell_type": "code",
      "execution_count": 6,
      "metadata": {},
      "outputs": [],
      "source": [
        "pytesseract.pytesseract.tesseract_cmd = r'C:/Program Files/Tesseract-OCR/tesseract.exe'"
      ]
    },
    {
      "cell_type": "code",
      "metadata": {
        "id": "puDTLqsFNiQZ"
      },
      "source": [
        "def get_score_from_image(image_path):\n",
        "  # invert image from white font & black background to \n",
        "  # tesseract-enabled normal: black font & white background\n",
        "  image = Image.open(image_path)\n",
        "  #im_invert = ImageOps.invert(image)\n",
        "\n",
        "  # execute tesseract engine on given image\n",
        "  # psm 6: \"Assume a single uniform block of text.\"\n",
        "  # see config explained: https://stackoverflow.com/a/44632770\n",
        "  text = pytesseract.image_to_string(image, config='--psm 6') \n",
        "  \n",
        "  # upper line is text[0]\n",
        "  # lower line is text[2]\n",
        "  # bound as tuple\n",
        "  return text"
      ],
      "execution_count": 7,
      "outputs": []
    },
    {
      "cell_type": "code",
      "execution_count": 9,
      "metadata": {},
      "outputs": [
        {
          "output_type": "stream",
          "name": "stdout",
          "text": [
            "0\n\f\n"
          ]
        }
      ],
      "source": [
        "im = './../Data/WangHaoMaLin2008/image0100l.png'\n",
        "print(get_score_from_image(im))"
      ]
    },
    {
      "cell_type": "code",
      "execution_count": 20,
      "metadata": {},
      "outputs": [
        {
          "output_type": "stream",
          "name": "stdout",
          "text": [
            "/0)\n\f\n"
          ]
        }
      ],
      "source": [
        "im = './../Data/WangHaoMaLin2008_halfed/image0673_upper.png'\n",
        "print(get_score_from_image(im))"
      ]
    },
    {
      "cell_type": "code",
      "execution_count": 21,
      "metadata": {},
      "outputs": [
        {
          "output_type": "stream",
          "name": "stdout",
          "text": [
            "10\n\f\n"
          ]
        }
      ],
      "source": [
        "im = './../Data/WangHaoMaLin2008_halfed/image0619_upper_white.png'\n",
        "print(get_score_from_image(im))"
      ]
    }
  ]
}