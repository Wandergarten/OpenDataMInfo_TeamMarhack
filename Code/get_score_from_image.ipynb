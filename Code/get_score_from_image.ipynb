{
  "nbformat": 4,
  "nbformat_minor": 0,
  "metadata": {
    "colab": {
      "name": "tesseract.ipynb",
      "provenance": [],
      "collapsed_sections": []
    },
    "kernelspec": {
      "name": "python3",
      "display_name": "Python 3"
    },
    "language_info": {
      "name": "python"
    }
  },
  "cells": [
    {
      "cell_type": "code",
      "metadata": {
        "id": "1YXRMjA9JP7l"
      },
      "source": [
        "# uncomment if needed\n",
        "#pip install pytesseract"
      ],
      "execution_count": 26,
      "outputs": []
    },
    {
      "cell_type": "code",
      "metadata": {
        "id": "2iOcHk-xJ7aA"
      },
      "source": [
        "# if tesseract needed uncomment lower line: https://morioh.com/p/12f182398dc4\n",
        "#!sudo apt install tesseract-ocr"
      ],
      "execution_count": 27,
      "outputs": []
    },
    {
      "cell_type": "code",
      "metadata": {
        "id": "ACDW_5e1JI-X"
      },
      "source": [
        "from PIL import Image, ImageOps\n",
        "import numpy as np\n",
        "import pytesseract"
      ],
      "execution_count": 28,
      "outputs": []
    },
    {
      "cell_type": "code",
      "metadata": {
        "id": "0mBwnAeQJfXd"
      },
      "source": [
        "# load image\n",
        "#im = Image.open(r'/content/image11.png')"
      ],
      "execution_count": 24,
      "outputs": []
    },
    {
      "cell_type": "code",
      "metadata": {
        "id": "puDTLqsFNiQZ"
      },
      "source": [
        "def get_score_from_image(image_path):\n",
        "  # invert image from white font & black background to \n",
        "  # tesseract-enabled normal: black font & white background\n",
        "  image = Image.open(image_path)\n",
        "  im_invert = ImageOps.invert(image)\n",
        "\n",
        "  # execute tesseract engine on given image\n",
        "  # psm 6: \"Assume a single uniform block of text.\"\n",
        "  # see config explained: https://stackoverflow.com/a/44632770\n",
        "  text = pytesseract.image_to_string(im_invert, config='--psm 6') \n",
        "  \n",
        "  # upper line is text[0]\n",
        "  # lower line is text[2]\n",
        "  # bound as tuple\n",
        "  return int(text[0]), int(text[2])"
      ],
      "execution_count": 25,
      "outputs": []
    }
  ]
}