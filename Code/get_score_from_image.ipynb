{
  "nbformat": 4,
  "nbformat_minor": 0,
  "metadata": {
    "colab": {
      "name": "tesseract.ipynb",
      "provenance": [],
      "collapsed_sections": []
    },
    "kernelspec": {
      "name": "python385jvsc74a57bd0d7a185c7189272243b4823288e938adbf8a9c14fac77efacc5e58c48a0cfe526",
      "display_name": "Python 3.8.5 64-bit"
    },
    "language_info": {
      "name": "python",
      "version": "3.8.5-final"
    }
  },
  "cells": [
    {
      "cell_type": "code",
      "metadata": {
        "id": "1YXRMjA9JP7l"
      },
      "source": [
        "# uncomment if needed\n",
        "#pip install pytesseract"
      ],
      "execution_count": 34,
      "outputs": []
    },
    {
      "cell_type": "code",
      "metadata": {
        "id": "2iOcHk-xJ7aA"
      },
      "source": [
        "# if tesseract needed uncomment lower line: https://morioh.com/p/12f182398dc4\n",
        "#!sudo apt install tesseract-ocr"
      ],
      "execution_count": 35,
      "outputs": []
    },
    {
      "cell_type": "code",
      "metadata": {
        "id": "ACDW_5e1JI-X"
      },
      "source": [
        "from PIL import Image, ImageOps\n",
        "import numpy as np\n",
        "import pytesseract"
      ],
      "execution_count": 36,
      "outputs": []
    },
    {
      "cell_type": "code",
      "execution_count": 37,
      "metadata": {},
      "outputs": [],
      "source": [
        "pytesseract.pytesseract.tesseract_cmd = r'C:/Program Files/Tesseract-OCR/tesseract.exe'"
      ]
    },
    {
      "cell_type": "code",
      "metadata": {
        "id": "puDTLqsFNiQZ"
      },
      "source": [
        "def get_score_from_image(image_path):\n",
        "  # invert image from white font & black background to \n",
        "  # tesseract-enabled normal: black font & white background\n",
        "  image = Image.open(image_path)\n",
        "  im_invert = ImageOps.invert(image)\n",
        "\n",
        "  # execute tesseract engine on given image\n",
        "  # psm 6: \"Assume a single uniform block of text.\"\n",
        "  # see config explained: https://stackoverflow.com/a/44632770\n",
        "  text = pytesseract.image_to_string(im_invert, config='--psm 6 tessedit_char_whitelist 0123456789') \n",
        "  \n",
        "  # upper line is text[0]\n",
        "  # lower line is text[2]\n",
        "  # bound as tuple\n",
        "  return text"
      ],
      "execution_count": 38,
      "outputs": []
    },
    {
      "cell_type": "code",
      "execution_count": 39,
      "metadata": {},
      "outputs": [
        {
          "output_type": "execute_result",
          "data": {
            "text/plain": [
              "'ul\\nay\\n\\x0c'"
            ]
          },
          "metadata": {},
          "execution_count": 39
        }
      ],
      "source": [
        "im = './../Data/WangHaoMaLin2008/image0159.png'\n",
        "get_score_from_image(im)"
      ]
    },
    {
      "cell_type": "code",
      "execution_count": 45,
      "metadata": {},
      "outputs": [
        {
          "output_type": "error",
          "ename": "NameError",
          "evalue": "name 'v' is not defined",
          "traceback": [
            "\u001b[1;31m---------------------------------------------------------------------------\u001b[0m",
            "\u001b[1;31mNameError\u001b[0m                                 Traceback (most recent call last)",
            "\u001b[1;32m<ipython-input-45-cbd8f928b3dd>\u001b[0m in \u001b[0;36m<module>\u001b[1;34m\u001b[0m\n\u001b[1;32m----> 1\u001b[1;33m \u001b[0mpytesseract\u001b[0m \u001b[1;33m-\u001b[0m\u001b[1;33m-\u001b[0m\u001b[0mv\u001b[0m\u001b[1;33m\u001b[0m\u001b[1;33m\u001b[0m\u001b[0m\n\u001b[0m",
            "\u001b[1;31mNameError\u001b[0m: name 'v' is not defined"
          ]
        }
      ],
      "source": []
    },
    {
      "cell_type": "code",
      "execution_count": null,
      "metadata": {},
      "outputs": [],
      "source": []
    }
  ]
}