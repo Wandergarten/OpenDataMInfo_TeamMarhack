{
 "cells": [
  {
   "cell_type": "code",
   "execution_count": 131,
   "metadata": {},
   "outputs": [],
   "source": [
    "import numpy as np\n",
    "import pandas as pd\n",
    "from os import listdir"
   ]
  },
  {
   "cell_type": "code",
   "execution_count": 132,
   "metadata": {},
   "outputs": [],
   "source": [
    "def get_score(file):\n",
    "    a,b = np.random.randint(0,2,2)\n",
    "    if a == 1 and b == 1:\n",
    "        a,b = get_score(file)\n",
    "    return a,b"
   ]
  },
  {
   "cell_type": "code",
   "execution_count": 130,
   "metadata": {},
   "outputs": [],
   "source": [
    "def create_time_series(InDirectory, player1=\"A\", player2=\"B\", who_serves=0, player1_id=1, player2_id=2):\n",
    "    \"\"\"\n",
    "    Create a time series for a point based game for two players, whose scores are saved in images.\n",
    "    For that purpose provide a directory with images, whose filenames contains the measured time starting from 0.\n",
    "    The time in the file names are used to infer the time for the time series.\n",
    "    The images contain the picture for the scores of both players.\n",
    "    For example, take the images from a youtube video, where there is a score display.\n",
    "    The variable \"who_serves\" indicates, which player does start with serving.\n",
    "    The rules for continuing the serving order are for table tennis (alternating every two rounds until 11 points,\n",
    "    then alternate every round).\n",
    "    \n",
    "    \"\"\"\n",
    "    lst_images = sorted(listdir(InDirectory))\n",
    "    lst_results = []\n",
    "    num_events = len(lst_images)\n",
    "    arr_events = np.zeros(num_events)\n",
    "    old_timestamp = 0\n",
    "    num_points = 0\n",
    "    old_a = 0\n",
    "    old_b = 0\n",
    "    order = \"1100110011\"\n",
    "    order2 = \"0011001100\"\n",
    "    if who_starts == 0:\n",
    "        order = order2\n",
    "    for i in range(num_events):\n",
    "        file = lst_images[i]                        # Get file name\n",
    "        a,b = get_score(file)                       # Get scores of both players\n",
    "        player1 = a                                 # Score of player a\n",
    "        player2 = b                                 # Score of player b\n",
    "        time_stamp = int(file[5:][:-4])             # Use file name to extract time (dirty!)\n",
    "        time_to_score = time_stamp-old_timestamp    # Time difference => Time of one move/round\n",
    "        if((a != old_a) or (b != old_b)):           # Condition: If there is a score, then do ...\n",
    "            num_points = num_points+1               #            Count point\n",
    "            if num_points < 11:                     #            Table tennis rule: Alternate serving every two rounds\n",
    "                who_serves = int(order[num_points-1])\n",
    "            else:                                   #            Start alternating serving every round\n",
    "                who_serves = who_serves%2           #\n",
    "        lst_entry = [player1, player2, time_stamp, time_to_score, who_serves, player1_id, player2_id]\n",
    "        old_timestamp = time_stamp                  # Update time\n",
    "        lst_results.append(lst_entry)               # Update entry for pd.DataFrame\n",
    "    \n",
    "    columns = [\"player1\", \"player2\", \"time_stamp\", \"time_to_score\", \"who_serves\", \"player1_id\", \"player2_id\"]\n",
    "    pd.DataFrame(data=lst_results, columns=columns)\n",
    "    return"
   ]
  },
  {
   "cell_type": "code",
   "execution_count": null,
   "metadata": {},
   "outputs": [],
   "source": [
    "player1_id = \"A\"\n",
    "player2_id = \"B\"\n",
    "who_starts = 0    \n",
    "InDirectory = \"PNG/\""
   ]
  }
 ],
 "metadata": {
  "kernelspec": {
   "display_name": "Python 3",
   "language": "python",
   "name": "python3"
  },
  "language_info": {
   "codemirror_mode": {
    "name": "ipython",
    "version": 3
   },
   "file_extension": ".py",
   "mimetype": "text/x-python",
   "name": "python",
   "nbconvert_exporter": "python",
   "pygments_lexer": "ipython3",
   "version": "3.8.6"
  }
 },
 "nbformat": 4,
 "nbformat_minor": 4
}
