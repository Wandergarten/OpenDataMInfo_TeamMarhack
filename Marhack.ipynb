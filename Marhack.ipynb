{
 "cells": [
  {
   "cell_type": "code",
   "execution_count": 1,
   "metadata": {},
   "outputs": [],
   "source": [
    "import numpy as np\n",
    "import pandas as pd\n",
    "import cv2"
   ]
  },
  {
   "cell_type": "code",
   "execution_count": 2,
   "metadata": {},
   "outputs": [],
   "source": [
    "movieName = \"TimoBollMaLong2017WC.mp4\""
   ]
  },
  {
   "cell_type": "code",
   "execution_count": null,
   "metadata": {},
   "outputs": [],
   "source": [
    "video_capture = cv2.VideoCapture(movieName)\n",
    "success, image = video_capture.read()\n",
    "count    = 0\n",
    "old_time = -1\n",
    "time     = 0\n",
    "x1 = 125\n",
    "x2 = 250\n",
    "y1 = 275\n",
    "y2 = 350\n",
    "while success:\n",
    "    gray = cv2.cvtColor(image, cv2.COLOR_BGR2GRAY)\n",
    "    roi  = gray[y1:y2, x1:x2]\n",
    "    time = video_capture.get(cv2.CAP_PROP_POS_MSEC)\n",
    "    time = np.floor(time/1000)\n",
    "    if time != old_time: # Event in next time (s) interval\n",
    "        cv2.imwrite(\"image\" + str(count) + \".png\", roi)\n",
    "    old_time = time\n",
    "    success,image = video_capture.read()\n",
    "    print('Read a new frame: ', success)\n",
    "    count += 1"
   ]
  }
 ],
 "metadata": {
  "kernelspec": {
   "display_name": "Python 3",
   "language": "python",
   "name": "python3"
  },
  "language_info": {
   "codemirror_mode": {
    "name": "ipython",
    "version": 3
   },
   "file_extension": ".py",
   "mimetype": "text/x-python",
   "name": "python",
   "nbconvert_exporter": "python",
   "pygments_lexer": "ipython3",
   "version": "3.8.6"
  }
 },
 "nbformat": 4,
 "nbformat_minor": 4
}
